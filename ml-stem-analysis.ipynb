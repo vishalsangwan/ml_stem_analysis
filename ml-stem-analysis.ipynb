{
 "cells": [
  {
   "cell_type": "code",
   "execution_count": 3,
   "metadata": {},
   "outputs": [
    {
     "name": "stderr",
     "output_type": "stream",
     "text": [
      "C:\\Users\\vishal sangwan\\Anaconda3\\lib\\site-packages\\h5py\\__init__.py:36: FutureWarning: Conversion of the second argument of issubdtype from `float` to `np.floating` is deprecated. In future, it will be treated as `np.float64 == np.dtype(float).type`.\n",
      "  from ._conv import register_converters as _register_converters\n"
     ]
    }
   ],
   "source": [
    "import pandas as pd\n",
    "import matplotlib.pyplot as plt\n",
    "import numpy as np\n",
    "% matplotlib inline\n",
    "import tensorflow as tf\n",
    "\n"
   ]
  },
  {
   "cell_type": "markdown",
   "metadata": {},
   "source": [
    "## Step 1"
   ]
  },
  {
   "cell_type": "markdown",
   "metadata": {},
   "source": [
    "Loading excel file \n"
   ]
  },
  {
   "cell_type": "code",
   "execution_count": 132,
   "metadata": {},
   "outputs": [],
   "source": [
    "df = pd.read_excel(\"stem.xls\", skiprows = 1)"
   ]
  },
  {
   "cell_type": "code",
   "execution_count": 145,
   "metadata": {
    "scrolled": true
   },
   "outputs": [
    {
     "data": {
      "text/html": [
       "<div>\n",
       "<style scoped>\n",
       "    .dataframe tbody tr th:only-of-type {\n",
       "        vertical-align: middle;\n",
       "    }\n",
       "\n",
       "    .dataframe tbody tr th {\n",
       "        vertical-align: top;\n",
       "    }\n",
       "\n",
       "    .dataframe thead th {\n",
       "        text-align: right;\n",
       "    }\n",
       "</style>\n",
       "<table border=\"1\" class=\"dataframe\">\n",
       "  <thead>\n",
       "    <tr style=\"text-align: right;\">\n",
       "      <th></th>\n",
       "      <th>Index Number</th>\n",
       "      <th>Investment Name</th>\n",
       "      <th>Agency</th>\n",
       "      <th>Subagency</th>\n",
       "      <th>A) Brief Description</th>\n",
       "      <th>B) Year Established</th>\n",
       "      <th>C1) Funding FY2008</th>\n",
       "      <th>C2) Funding FY2009</th>\n",
       "      <th>C3) Funding FY2010</th>\n",
       "      <th>D) Mission-specific or General STEM?</th>\n",
       "      <th>...</th>\n",
       "      <th>Unnamed: 247</th>\n",
       "      <th>Y3) Process or Implementation Evaluation Type</th>\n",
       "      <th>Unnamed: 249</th>\n",
       "      <th>Unnamed: 250</th>\n",
       "      <th>Y4) Portfolio Evaluation/Review Type</th>\n",
       "      <th>Unnamed: 252</th>\n",
       "      <th>Unnamed: 253</th>\n",
       "      <th>Y5) Expert Review Type</th>\n",
       "      <th>Unnamed: 255</th>\n",
       "      <th>label</th>\n",
       "    </tr>\n",
       "  </thead>\n",
       "  <tbody>\n",
       "    <tr>\n",
       "      <th>0</th>\n",
       "      <td>PRG_0001</td>\n",
       "      <td>Centers for Ocean Sciences Education Excellence ~</td>\n",
       "      <td>National Science Foundation</td>\n",
       "      <td>Directorate for Geosciences (GEO)</td>\n",
       "      <td>The Division of Ocean Sciences seeks to establ...</td>\n",
       "      <td>2002.0</td>\n",
       "      <td>5.24</td>\n",
       "      <td>7.19</td>\n",
       "      <td>5.70</td>\n",
       "      <td>General STEM</td>\n",
       "      <td>...</td>\n",
       "      <td>NaN</td>\n",
       "      <td>NaN</td>\n",
       "      <td>NaN</td>\n",
       "      <td>NO</td>\n",
       "      <td>INDEPENDENT</td>\n",
       "      <td>NaN</td>\n",
       "      <td>NaN</td>\n",
       "      <td>INDEPENDENT</td>\n",
       "      <td>NaN</td>\n",
       "      <td>1.0</td>\n",
       "    </tr>\n",
       "    <tr>\n",
       "      <th>1</th>\n",
       "      <td>PRG_0002</td>\n",
       "      <td>Broadening Participation in Computing (BPC)</td>\n",
       "      <td>National Science Foundation</td>\n",
       "      <td>Directorate for Computer &amp; Information Science...</td>\n",
       "      <td>The BPC Program was not primarily aimed at edu...</td>\n",
       "      <td>2006.0</td>\n",
       "      <td>14.00</td>\n",
       "      <td>14.00</td>\n",
       "      <td>14.00</td>\n",
       "      <td>General STEM</td>\n",
       "      <td>...</td>\n",
       "      <td>NaN</td>\n",
       "      <td>NaN</td>\n",
       "      <td>NaN</td>\n",
       "      <td>NO</td>\n",
       "      <td>NaN</td>\n",
       "      <td>NaN</td>\n",
       "      <td>NO</td>\n",
       "      <td>NaN</td>\n",
       "      <td>NaN</td>\n",
       "      <td>1.0</td>\n",
       "    </tr>\n",
       "    <tr>\n",
       "      <th>2</th>\n",
       "      <td>PRG_0003</td>\n",
       "      <td>CISE Pathways to Revitalized Undergraduate Com...</td>\n",
       "      <td>National Science Foundation</td>\n",
       "      <td>Directorate for Computer &amp; Information Science...</td>\n",
       "      <td>Through the CISE Pathways to Revitalized Under...</td>\n",
       "      <td>2007.0</td>\n",
       "      <td>5.00</td>\n",
       "      <td>5.00</td>\n",
       "      <td>4.37</td>\n",
       "      <td>General STEM</td>\n",
       "      <td>...</td>\n",
       "      <td>NaN</td>\n",
       "      <td>NaN</td>\n",
       "      <td>NaN</td>\n",
       "      <td>NO</td>\n",
       "      <td>NaN</td>\n",
       "      <td>NaN</td>\n",
       "      <td>NO</td>\n",
       "      <td>NaN</td>\n",
       "      <td>NaN</td>\n",
       "      <td>1.0</td>\n",
       "    </tr>\n",
       "    <tr>\n",
       "      <th>3</th>\n",
       "      <td>PRG_0004</td>\n",
       "      <td>Opportunities for Enhancing Diversity in the G...</td>\n",
       "      <td>National Science Foundation</td>\n",
       "      <td>Directorate for Geosciences (GEO)</td>\n",
       "      <td>The Opportunities for Enhancing Diversity in t...</td>\n",
       "      <td>2002.0</td>\n",
       "      <td>4.57</td>\n",
       "      <td>11.79</td>\n",
       "      <td>4.18</td>\n",
       "      <td>General STEM</td>\n",
       "      <td>...</td>\n",
       "      <td>NO</td>\n",
       "      <td>INDEPENDENT</td>\n",
       "      <td>NaN</td>\n",
       "      <td>NaN</td>\n",
       "      <td>INDEPENDENT</td>\n",
       "      <td>NaN</td>\n",
       "      <td>NaN</td>\n",
       "      <td>INDEPENDENT</td>\n",
       "      <td>NaN</td>\n",
       "      <td>1.0</td>\n",
       "    </tr>\n",
       "    <tr>\n",
       "      <th>4</th>\n",
       "      <td>PRG_0005</td>\n",
       "      <td>Geoscience Education</td>\n",
       "      <td>National Science Foundation</td>\n",
       "      <td>Directorate for Geosciences (GEO)</td>\n",
       "      <td>The Geoscience Education (GeoEd) program is fo...</td>\n",
       "      <td>1999.0</td>\n",
       "      <td>1.63</td>\n",
       "      <td>2.74</td>\n",
       "      <td>2.02</td>\n",
       "      <td>General STEM</td>\n",
       "      <td>...</td>\n",
       "      <td>NO</td>\n",
       "      <td>NaN</td>\n",
       "      <td>NaN</td>\n",
       "      <td>NO</td>\n",
       "      <td>NaN</td>\n",
       "      <td>NaN</td>\n",
       "      <td>NO</td>\n",
       "      <td>NaN</td>\n",
       "      <td>NaN</td>\n",
       "      <td>1.0</td>\n",
       "    </tr>\n",
       "  </tbody>\n",
       "</table>\n",
       "<p>5 rows × 255 columns</p>\n",
       "</div>"
      ],
      "text/plain": [
       "  Index Number                                    Investment Name  \\\n",
       "0     PRG_0001  Centers for Ocean Sciences Education Excellence ~   \n",
       "1     PRG_0002        Broadening Participation in Computing (BPC)   \n",
       "2     PRG_0003  CISE Pathways to Revitalized Undergraduate Com...   \n",
       "3     PRG_0004  Opportunities for Enhancing Diversity in the G...   \n",
       "4     PRG_0005                               Geoscience Education   \n",
       "\n",
       "                        Agency  \\\n",
       "0  National Science Foundation   \n",
       "1  National Science Foundation   \n",
       "2  National Science Foundation   \n",
       "3  National Science Foundation   \n",
       "4  National Science Foundation   \n",
       "\n",
       "                                           Subagency  \\\n",
       "0                  Directorate for Geosciences (GEO)   \n",
       "1  Directorate for Computer & Information Science...   \n",
       "2  Directorate for Computer & Information Science...   \n",
       "3                  Directorate for Geosciences (GEO)   \n",
       "4                  Directorate for Geosciences (GEO)   \n",
       "\n",
       "                                A) Brief Description  B) Year Established  \\\n",
       "0  The Division of Ocean Sciences seeks to establ...               2002.0   \n",
       "1  The BPC Program was not primarily aimed at edu...               2006.0   \n",
       "2  Through the CISE Pathways to Revitalized Under...               2007.0   \n",
       "3  The Opportunities for Enhancing Diversity in t...               2002.0   \n",
       "4  The Geoscience Education (GeoEd) program is fo...               1999.0   \n",
       "\n",
       "   C1) Funding FY2008  C2) Funding FY2009  C3) Funding FY2010  \\\n",
       "0                5.24                7.19                5.70   \n",
       "1               14.00               14.00               14.00   \n",
       "2                5.00                5.00                4.37   \n",
       "3                4.57               11.79                4.18   \n",
       "4                1.63                2.74                2.02   \n",
       "\n",
       "  D) Mission-specific or General STEM?  ...  Unnamed: 247  \\\n",
       "0                         General STEM  ...           NaN   \n",
       "1                         General STEM  ...           NaN   \n",
       "2                         General STEM  ...           NaN   \n",
       "3                         General STEM  ...            NO   \n",
       "4                         General STEM  ...            NO   \n",
       "\n",
       "  Y3) Process or Implementation Evaluation Type Unnamed: 249 Unnamed: 250  \\\n",
       "0                                           NaN          NaN           NO   \n",
       "1                                           NaN          NaN           NO   \n",
       "2                                           NaN          NaN           NO   \n",
       "3                                   INDEPENDENT          NaN          NaN   \n",
       "4                                           NaN          NaN           NO   \n",
       "\n",
       "  Y4) Portfolio Evaluation/Review Type Unnamed: 252 Unnamed: 253  \\\n",
       "0                          INDEPENDENT          NaN          NaN   \n",
       "1                                  NaN          NaN           NO   \n",
       "2                                  NaN          NaN           NO   \n",
       "3                          INDEPENDENT          NaN          NaN   \n",
       "4                                  NaN          NaN           NO   \n",
       "\n",
       "  Y5) Expert Review Type Unnamed: 255 label  \n",
       "0            INDEPENDENT          NaN   1.0  \n",
       "1                    NaN          NaN   1.0  \n",
       "2                    NaN          NaN   1.0  \n",
       "3            INDEPENDENT          NaN   1.0  \n",
       "4                    NaN          NaN   1.0  \n",
       "\n",
       "[5 rows x 255 columns]"
      ]
     },
     "execution_count": 145,
     "metadata": {},
     "output_type": "execute_result"
    }
   ],
   "source": [
    "df.head(5)"
   ]
  },
  {
   "cell_type": "code",
   "execution_count": 134,
   "metadata": {},
   "outputs": [
    {
     "data": {
      "text/plain": [
       "(253, 256)"
      ]
     },
     "execution_count": 134,
     "metadata": {},
     "output_type": "execute_result"
    }
   ],
   "source": [
    "df.shape"
   ]
  },
  {
   "cell_type": "markdown",
   "metadata": {},
   "source": [
    "Dropping columns in which all value are not defined"
   ]
  },
  {
   "cell_type": "code",
   "execution_count": 135,
   "metadata": {},
   "outputs": [],
   "source": [
    "df.dropna(how = 'all',inplace=True,axis= 1)"
   ]
  },
  {
   "cell_type": "markdown",
   "metadata": {},
   "source": [
    "Dropping rows in which have nan values in funding fy2008 and fy2009 columnc"
   ]
  },
  {
   "cell_type": "code",
   "execution_count": 136,
   "metadata": {},
   "outputs": [],
   "source": [
    "\n",
    "df.dropna( axis = 0, subset = [\"C1) Funding FY2008\",\"C2) Funding FY2009\"], inplace = True)"
   ]
  },
  {
   "cell_type": "code",
   "execution_count": 137,
   "metadata": {},
   "outputs": [],
   "source": [
    "def growth(x,y):\n",
    "    increase = y-x\n",
    "    return increase\n"
   ]
  },
  {
   "cell_type": "code",
   "execution_count": 138,
   "metadata": {},
   "outputs": [],
   "source": [
    "x = df[\"C1) Funding FY2008\"]\n",
    "y = df[\"C2) Funding FY2009\"]\n",
    "z = growth(x,y)"
   ]
  },
  {
   "cell_type": "code",
   "execution_count": 139,
   "metadata": {},
   "outputs": [],
   "source": [
    "z = pd.Series(z)"
   ]
  },
  {
   "cell_type": "markdown",
   "metadata": {},
   "source": [
    "adding a column named label in the dataframe "
   ]
  },
  {
   "cell_type": "code",
   "execution_count": 140,
   "metadata": {},
   "outputs": [],
   "source": [
    "df[\"label\"] = z"
   ]
  },
  {
   "cell_type": "code",
   "execution_count": 141,
   "metadata": {},
   "outputs": [
    {
     "name": "stderr",
     "output_type": "stream",
     "text": [
      "C:\\Users\\vishal sangwan\\Anaconda3\\lib\\site-packages\\ipykernel\\__main__.py:1: SettingWithCopyWarning: \n",
      "A value is trying to be set on a copy of a slice from a DataFrame\n",
      "\n",
      "See the caveats in the documentation: http://pandas.pydata.org/pandas-docs/stable/indexing.html#indexing-view-versus-copy\n",
      "  if __name__ == '__main__':\n",
      "C:\\Users\\vishal sangwan\\Anaconda3\\lib\\site-packages\\ipykernel\\__main__.py:2: SettingWithCopyWarning: \n",
      "A value is trying to be set on a copy of a slice from a DataFrame\n",
      "\n",
      "See the caveats in the documentation: http://pandas.pydata.org/pandas-docs/stable/indexing.html#indexing-view-versus-copy\n",
      "  from ipykernel import kernelapp as app\n"
     ]
    }
   ],
   "source": [
    "df.label[df.label>=0] =1\n",
    "df.label[df.label<0] = 0"
   ]
  },
  {
   "cell_type": "code",
   "execution_count": 147,
   "metadata": {},
   "outputs": [
    {
     "data": {
      "text/html": [
       "<div>\n",
       "<style scoped>\n",
       "    .dataframe tbody tr th:only-of-type {\n",
       "        vertical-align: middle;\n",
       "    }\n",
       "\n",
       "    .dataframe tbody tr th {\n",
       "        vertical-align: top;\n",
       "    }\n",
       "\n",
       "    .dataframe thead th {\n",
       "        text-align: right;\n",
       "    }\n",
       "</style>\n",
       "<table border=\"1\" class=\"dataframe\">\n",
       "  <thead>\n",
       "    <tr style=\"text-align: right;\">\n",
       "      <th></th>\n",
       "      <th>Index Number</th>\n",
       "      <th>Investment Name</th>\n",
       "      <th>Agency</th>\n",
       "      <th>Subagency</th>\n",
       "      <th>A) Brief Description</th>\n",
       "      <th>B) Year Established</th>\n",
       "      <th>C1) Funding FY2008</th>\n",
       "      <th>C2) Funding FY2009</th>\n",
       "      <th>C3) Funding FY2010</th>\n",
       "      <th>D) Mission-specific or General STEM?</th>\n",
       "      <th>...</th>\n",
       "      <th>Unnamed: 247</th>\n",
       "      <th>Y3) Process or Implementation Evaluation Type</th>\n",
       "      <th>Unnamed: 249</th>\n",
       "      <th>Unnamed: 250</th>\n",
       "      <th>Y4) Portfolio Evaluation/Review Type</th>\n",
       "      <th>Unnamed: 252</th>\n",
       "      <th>Unnamed: 253</th>\n",
       "      <th>Y5) Expert Review Type</th>\n",
       "      <th>Unnamed: 255</th>\n",
       "      <th>label</th>\n",
       "    </tr>\n",
       "  </thead>\n",
       "  <tbody>\n",
       "    <tr>\n",
       "      <th>0</th>\n",
       "      <td>PRG_0001</td>\n",
       "      <td>Centers for Ocean Sciences Education Excellence ~</td>\n",
       "      <td>National Science Foundation</td>\n",
       "      <td>Directorate for Geosciences (GEO)</td>\n",
       "      <td>The Division of Ocean Sciences seeks to establ...</td>\n",
       "      <td>2002.0</td>\n",
       "      <td>5.24</td>\n",
       "      <td>7.19</td>\n",
       "      <td>5.70</td>\n",
       "      <td>General STEM</td>\n",
       "      <td>...</td>\n",
       "      <td>NaN</td>\n",
       "      <td>NaN</td>\n",
       "      <td>NaN</td>\n",
       "      <td>NO</td>\n",
       "      <td>INDEPENDENT</td>\n",
       "      <td>NaN</td>\n",
       "      <td>NaN</td>\n",
       "      <td>INDEPENDENT</td>\n",
       "      <td>NaN</td>\n",
       "      <td>1.0</td>\n",
       "    </tr>\n",
       "    <tr>\n",
       "      <th>1</th>\n",
       "      <td>PRG_0002</td>\n",
       "      <td>Broadening Participation in Computing (BPC)</td>\n",
       "      <td>National Science Foundation</td>\n",
       "      <td>Directorate for Computer &amp; Information Science...</td>\n",
       "      <td>The BPC Program was not primarily aimed at edu...</td>\n",
       "      <td>2006.0</td>\n",
       "      <td>14.00</td>\n",
       "      <td>14.00</td>\n",
       "      <td>14.00</td>\n",
       "      <td>General STEM</td>\n",
       "      <td>...</td>\n",
       "      <td>NaN</td>\n",
       "      <td>NaN</td>\n",
       "      <td>NaN</td>\n",
       "      <td>NO</td>\n",
       "      <td>NaN</td>\n",
       "      <td>NaN</td>\n",
       "      <td>NO</td>\n",
       "      <td>NaN</td>\n",
       "      <td>NaN</td>\n",
       "      <td>1.0</td>\n",
       "    </tr>\n",
       "    <tr>\n",
       "      <th>2</th>\n",
       "      <td>PRG_0003</td>\n",
       "      <td>CISE Pathways to Revitalized Undergraduate Com...</td>\n",
       "      <td>National Science Foundation</td>\n",
       "      <td>Directorate for Computer &amp; Information Science...</td>\n",
       "      <td>Through the CISE Pathways to Revitalized Under...</td>\n",
       "      <td>2007.0</td>\n",
       "      <td>5.00</td>\n",
       "      <td>5.00</td>\n",
       "      <td>4.37</td>\n",
       "      <td>General STEM</td>\n",
       "      <td>...</td>\n",
       "      <td>NaN</td>\n",
       "      <td>NaN</td>\n",
       "      <td>NaN</td>\n",
       "      <td>NO</td>\n",
       "      <td>NaN</td>\n",
       "      <td>NaN</td>\n",
       "      <td>NO</td>\n",
       "      <td>NaN</td>\n",
       "      <td>NaN</td>\n",
       "      <td>1.0</td>\n",
       "    </tr>\n",
       "    <tr>\n",
       "      <th>3</th>\n",
       "      <td>PRG_0004</td>\n",
       "      <td>Opportunities for Enhancing Diversity in the G...</td>\n",
       "      <td>National Science Foundation</td>\n",
       "      <td>Directorate for Geosciences (GEO)</td>\n",
       "      <td>The Opportunities for Enhancing Diversity in t...</td>\n",
       "      <td>2002.0</td>\n",
       "      <td>4.57</td>\n",
       "      <td>11.79</td>\n",
       "      <td>4.18</td>\n",
       "      <td>General STEM</td>\n",
       "      <td>...</td>\n",
       "      <td>NO</td>\n",
       "      <td>INDEPENDENT</td>\n",
       "      <td>NaN</td>\n",
       "      <td>NaN</td>\n",
       "      <td>INDEPENDENT</td>\n",
       "      <td>NaN</td>\n",
       "      <td>NaN</td>\n",
       "      <td>INDEPENDENT</td>\n",
       "      <td>NaN</td>\n",
       "      <td>1.0</td>\n",
       "    </tr>\n",
       "    <tr>\n",
       "      <th>4</th>\n",
       "      <td>PRG_0005</td>\n",
       "      <td>Geoscience Education</td>\n",
       "      <td>National Science Foundation</td>\n",
       "      <td>Directorate for Geosciences (GEO)</td>\n",
       "      <td>The Geoscience Education (GeoEd) program is fo...</td>\n",
       "      <td>1999.0</td>\n",
       "      <td>1.63</td>\n",
       "      <td>2.74</td>\n",
       "      <td>2.02</td>\n",
       "      <td>General STEM</td>\n",
       "      <td>...</td>\n",
       "      <td>NO</td>\n",
       "      <td>NaN</td>\n",
       "      <td>NaN</td>\n",
       "      <td>NO</td>\n",
       "      <td>NaN</td>\n",
       "      <td>NaN</td>\n",
       "      <td>NO</td>\n",
       "      <td>NaN</td>\n",
       "      <td>NaN</td>\n",
       "      <td>1.0</td>\n",
       "    </tr>\n",
       "  </tbody>\n",
       "</table>\n",
       "<p>5 rows × 255 columns</p>\n",
       "</div>"
      ],
      "text/plain": [
       "  Index Number                                    Investment Name  \\\n",
       "0     PRG_0001  Centers for Ocean Sciences Education Excellence ~   \n",
       "1     PRG_0002        Broadening Participation in Computing (BPC)   \n",
       "2     PRG_0003  CISE Pathways to Revitalized Undergraduate Com...   \n",
       "3     PRG_0004  Opportunities for Enhancing Diversity in the G...   \n",
       "4     PRG_0005                               Geoscience Education   \n",
       "\n",
       "                        Agency  \\\n",
       "0  National Science Foundation   \n",
       "1  National Science Foundation   \n",
       "2  National Science Foundation   \n",
       "3  National Science Foundation   \n",
       "4  National Science Foundation   \n",
       "\n",
       "                                           Subagency  \\\n",
       "0                  Directorate for Geosciences (GEO)   \n",
       "1  Directorate for Computer & Information Science...   \n",
       "2  Directorate for Computer & Information Science...   \n",
       "3                  Directorate for Geosciences (GEO)   \n",
       "4                  Directorate for Geosciences (GEO)   \n",
       "\n",
       "                                A) Brief Description  B) Year Established  \\\n",
       "0  The Division of Ocean Sciences seeks to establ...               2002.0   \n",
       "1  The BPC Program was not primarily aimed at edu...               2006.0   \n",
       "2  Through the CISE Pathways to Revitalized Under...               2007.0   \n",
       "3  The Opportunities for Enhancing Diversity in t...               2002.0   \n",
       "4  The Geoscience Education (GeoEd) program is fo...               1999.0   \n",
       "\n",
       "   C1) Funding FY2008  C2) Funding FY2009  C3) Funding FY2010  \\\n",
       "0                5.24                7.19                5.70   \n",
       "1               14.00               14.00               14.00   \n",
       "2                5.00                5.00                4.37   \n",
       "3                4.57               11.79                4.18   \n",
       "4                1.63                2.74                2.02   \n",
       "\n",
       "  D) Mission-specific or General STEM?  ...  Unnamed: 247  \\\n",
       "0                         General STEM  ...           NaN   \n",
       "1                         General STEM  ...           NaN   \n",
       "2                         General STEM  ...           NaN   \n",
       "3                         General STEM  ...            NO   \n",
       "4                         General STEM  ...            NO   \n",
       "\n",
       "  Y3) Process or Implementation Evaluation Type Unnamed: 249 Unnamed: 250  \\\n",
       "0                                           NaN          NaN           NO   \n",
       "1                                           NaN          NaN           NO   \n",
       "2                                           NaN          NaN           NO   \n",
       "3                                   INDEPENDENT          NaN          NaN   \n",
       "4                                           NaN          NaN           NO   \n",
       "\n",
       "  Y4) Portfolio Evaluation/Review Type Unnamed: 252 Unnamed: 253  \\\n",
       "0                          INDEPENDENT          NaN          NaN   \n",
       "1                                  NaN          NaN           NO   \n",
       "2                                  NaN          NaN           NO   \n",
       "3                          INDEPENDENT          NaN          NaN   \n",
       "4                                  NaN          NaN           NO   \n",
       "\n",
       "  Y5) Expert Review Type Unnamed: 255 label  \n",
       "0            INDEPENDENT          NaN   1.0  \n",
       "1                    NaN          NaN   1.0  \n",
       "2                    NaN          NaN   1.0  \n",
       "3            INDEPENDENT          NaN   1.0  \n",
       "4                    NaN          NaN   1.0  \n",
       "\n",
       "[5 rows x 255 columns]"
      ]
     },
     "execution_count": 147,
     "metadata": {},
     "output_type": "execute_result"
    }
   ],
   "source": [
    "df.head(5)"
   ]
  },
  {
   "cell_type": "markdown",
   "metadata": {},
   "source": [
    "## Step 2"
   ]
  },
  {
   "cell_type": "code",
   "execution_count": 167,
   "metadata": {},
   "outputs": [],
   "source": [
    "from sklearn.metrics.cluster import normalized_mutual_info_score\n"
   ]
  },
  {
   "cell_type": "markdown",
   "metadata": {},
   "source": [
    "normalized_mutual_info_score([0, 0, 1, 1], [0, 0, 1, 1])\n",
    "1.0"
   ]
  },
  {
   "cell_type": "code",
   "execution_count": null,
   "metadata": {},
   "outputs": [],
   "source": []
  },
  {
   "cell_type": "code",
   "execution_count": 160,
   "metadata": {},
   "outputs": [
    {
     "data": {
      "text/plain": [
       "<matplotlib.axes._subplots.AxesSubplot at 0x2932bbe7128>"
      ]
     },
     "execution_count": 160,
     "metadata": {},
     "output_type": "execute_result"
    },
    {
     "data": {
      "image/png": "[encoded data removed]",
      "text/plain": [
       "<matplotlib.figure.Figure at 0x2932bbd2ac8>"
      ]
     },
     "metadata": {},
     "output_type": "display_data"
    }
   ],
   "source": [
    "df.label.hist()"
   ]
  },
  {
   "cell_type": "markdown",
   "metadata": {},
   "source": [
    "## Step 3"
   ]
  },
  {
   "cell_type": "markdown",
   "metadata": {},
   "source": [
    "creating feature and target dataframes"
   ]
  },
  {
   "cell_type": "code",
   "execution_count": 162,
   "metadata": {},
   "outputs": [],
   "source": [
    "X = df.drop([\"label\"], axis = 1)"
   ]
  },
  {
   "cell_type": "code",
   "execution_count": 163,
   "metadata": {},
   "outputs": [],
   "source": [
    "y = df.label"
   ]
  },
  {
   "cell_type": "markdown",
   "metadata": {},
   "source": [
    "using train_test_split to split training data and test data"
   ]
  },
  {
   "cell_type": "code",
   "execution_count": 164,
   "metadata": {},
   "outputs": [],
   "source": [
    "from sklearn.model_selection import train_test_split"
   ]
  },
  {
   "cell_type": "code",
   "execution_count": 165,
   "metadata": {},
   "outputs": [],
   "source": [
    "X_train, X_test, y_train, y_test = train_test_split( X, y, test_size=0.3, random_state=42, shuffle = True)"
   ]
  },
  {
   "cell_type": "code",
   "execution_count": null,
   "metadata": {},
   "outputs": [],
   "source": []
  },
  {
   "cell_type": "code",
   "execution_count": null,
   "metadata": {},
   "outputs": [],
   "source": []
  },
  {
   "cell_type": "code",
   "execution_count": null,
   "metadata": {},
   "outputs": [],
   "source": []
  }
 ],
 "metadata": {
  "kernelspec": {
   "display_name": "Python [conda env:Anaconda3]",
   "language": "python",
   "name": "conda-env-Anaconda3-py"
  },
  "language_info": {
   "codemirror_mode": {
    "name": "ipython",
    "version": 3
   },
   "file_extension": ".py",
   "mimetype": "text/x-python",
   "name": "python",
   "nbconvert_exporter": "python",
   "pygments_lexer": "ipython3",
   "version": "3.6.4"
  }
 },
 "nbformat": 4,
 "nbformat_minor": 2
}
